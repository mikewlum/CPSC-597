{
 "cells": [
  {
   "cell_type": "code",
   "execution_count": 1,
   "id": "95a742c1",
   "metadata": {},
   "outputs": [],
   "source": [
    "import tensorflow as tf\n",
    "from tensorflow import keras\n",
    "from tensorflow.keras import layers"
   ]
  },
  {
   "cell_type": "code",
   "execution_count": 2,
   "id": "f00e14af",
   "metadata": {},
   "outputs": [],
   "source": [
    "from keras import regularizers\n",
    "import pandas as pd\n",
    "from sklearn.model_selection import train_test_split"
   ]
  },
  {
   "cell_type": "code",
   "execution_count": 3,
   "id": "d94625de",
   "metadata": {},
   "outputs": [],
   "source": [
    "import matplotlib.pyplot as plt"
   ]
  },
  {
   "cell_type": "code",
   "execution_count": 4,
   "id": "5db527b2",
   "metadata": {},
   "outputs": [],
   "source": [
    "from sklearn.metrics import mean_absolute_error, r2_score"
   ]
  },
  {
   "cell_type": "code",
   "execution_count": 5,
   "id": "ff9e9c23",
   "metadata": {},
   "outputs": [],
   "source": [
    "#download the data\n",
    "file = pd.read_csv(\"D:\\CPSC 597\\ph-data.csv\")"
   ]
  },
  {
   "cell_type": "code",
   "execution_count": 7,
   "id": "129cd1cc",
   "metadata": {},
   "outputs": [],
   "source": [
    "#split data into x variables\n",
    "xdata=file.drop(\"label\", axis='columns')\n",
    "#split data into y variables\n",
    "ydata=file[\"label\"]\n",
    "#X_train, X_test, y_train, y_test = train_test_split(xdata, ydata, test_size=.10, random_state = None)"
   ]
  },
  {
   "cell_type": "code",
   "execution_count": 8,
   "id": "f1ec92e4",
   "metadata": {},
   "outputs": [],
   "source": [
    "#split into testing and variables\n",
    "X_train, X_test, y_train, y_test = train_test_split(xdata, ydata, test_size=.10, random_state = None)"
   ]
  },
  {
   "cell_type": "code",
   "execution_count": 9,
   "id": "3324f8be",
   "metadata": {},
   "outputs": [],
   "source": [
    "#reformat the y variables to adjust shape\n",
    "y_train= pd.get_dummies(y_train, columns=['label'])\n",
    "y_test= pd.get_dummies(y_test, columns=['label'])\n",
    "#y_test=pd.get_dummies(y_test, columns=['label'])"
   ]
  },
  {
   "cell_type": "code",
   "execution_count": 12,
   "id": "4a8e3418",
   "metadata": {},
   "outputs": [
    {
     "name": "stdout",
     "output_type": "stream",
     "text": [
      "Model: \"sequential\"\n",
      "_________________________________________________________________\n",
      " Layer (type)                Output Shape              Param #   \n",
      "=================================================================\n",
      " dense (Dense)               (None, 3)                 12        \n",
      "                                                                 \n",
      " dense_1 (Dense)             (None, 24)                96        \n",
      "                                                                 \n",
      " dense_2 (Dense)             (None, 24)                600       \n",
      "                                                                 \n",
      " dense_3 (Dense)             (None, 16)                400       \n",
      "                                                                 \n",
      " dense_4 (Dense)             (None, 15)                255       \n",
      "                                                                 \n",
      "=================================================================\n",
      "Total params: 1,363\n",
      "Trainable params: 1,363\n",
      "Non-trainable params: 0\n",
      "_________________________________________________________________\n"
     ]
    }
   ],
   "source": [
    "#build the model\n",
    "model = keras.Sequential([\n",
    "    layers.Dense(3, kernel_regularizer=regularizers.l2(0.001), activation='sigmoid', input_shape=[len(X_train.keys())]), #inputshape=[3]\n",
    "    layers.Dense(24, kernel_regularizer=regularizers.l2(0.001), activation='sigmoid'),\n",
    "    layers.Dense(24, kernel_regularizer=regularizers.l2(0.001), activation='sigmoid'),\n",
    "    layers.Dense(16, kernel_regularizer=regularizers.l2(0.001), activation='sigmoid'),\n",
    "    layers.Dense(15)\n",
    "  ])\n",
    "\n",
    "optimizer = keras.optimizers.Adam(learning_rate=0.001)\n",
    "loss_function = tf.keras.losses.CategoricalCrossentropy(from_logits=True)\n",
    "\n",
    "model.compile(loss=loss_function,\n",
    "                optimizer=optimizer,\n",
    "                metrics=['accuracy'])\n",
    "model.summary()"
   ]
  },
  {
   "cell_type": "code",
   "execution_count": 13,
   "id": "c7311eab",
   "metadata": {},
   "outputs": [],
   "source": [
    "#fit the model\n",
    "history = model.fit(x=X_train, y=y_train, \n",
    "                    validation_split=0.2, \n",
    "                    epochs=2000, \n",
    "                    batch_size=2048, \n",
    "                    verbose=0,\n",
    "                    callbacks = None,\n",
    "                    shuffle=True)"
   ]
  },
  {
   "cell_type": "code",
   "execution_count": 15,
   "id": "a9206878",
   "metadata": {},
   "outputs": [
    {
     "data": {
      "image/png": "[encoded data removed]",
      "text/plain": [
       "<Figure size 432x288 with 1 Axes>"
      ]
     },
     "metadata": {
      "needs_background": "light"
     },
     "output_type": "display_data"
    }
   ],
   "source": [
    "#plot training and validation loss\n",
    "plt.plot(history.history[\"accuracy\"])\n",
    "plt.plot(history.history[\"val_accuracy\"])\n",
    "plt.title(\"model accuracy\")\n",
    "plt.ylabel(\"accuracy\")\n",
    "plt.xlabel(\"epoch\")\n",
    "plt.legend([\"train\", \"test\"], loc=\"upper left\")\n",
    "plt.show()"
   ]
  },
  {
   "cell_type": "code",
   "execution_count": null,
   "id": "97106091",
   "metadata": {},
   "outputs": [],
   "source": []
  }
 ],
 "metadata": {
  "kernelspec": {
   "display_name": "Python 3 (ipykernel)",
   "language": "python",
   "name": "python3"
  },
  "language_info": {
   "codemirror_mode": {
    "name": "ipython",
    "version": 3
   },
   "file_extension": ".py",
   "mimetype": "text/x-python",
   "name": "python",
   "nbconvert_exporter": "python",
   "pygments_lexer": "ipython3",
   "version": "3.9.7"
  }
 },
 "nbformat": 4,
 "nbformat_minor": 5
}
